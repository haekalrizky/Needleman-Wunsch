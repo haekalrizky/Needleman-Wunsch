{
  "nbformat": 4,
  "nbformat_minor": 0,
  "metadata": {
    "colab": {
      "name": "Bioinfomatics_Implementation_NeedlemanWunsch_Haekal_17/415900/PA/18169.ipynb",
      "provenance": [],
      "collapsed_sections": [],
      "toc_visible": true,
      "authorship_tag": "ABX9TyPO3s2QKf+wOcJzRVaQc7k0",
      "include_colab_link": true
    },
    "kernelspec": {
      "name": "python3",
      "display_name": "Python 3"
    }
  },
  "cells": [
    {
      "cell_type": "markdown",
      "metadata": {
        "id": "view-in-github",
        "colab_type": "text"
      },
      "source": [
        "<a href=\"https://colab.research.google.com/github/haekalrizky/Needleman-Wunsch/blob/main/Bioinfomatics_Implementation_NeedlemanWunsch_Haekal_17_415900_PA_18169.ipynb\" target=\"_parent\"><img src=\"https://colab.research.google.com/assets/colab-badge.svg\" alt=\"Open In Colab\"/></a>"
      ]
    },
    {
      "cell_type": "markdown",
      "metadata": {
        "id": "FaEG9nlHjs10"
      },
      "source": [
        "#Dictionary Options"
      ]
    },
    {
      "cell_type": "markdown",
      "metadata": {
        "id": "6bb7dwojf_Yb"
      },
      "source": [
        "##BLOSUM62 Dictionary"
      ]
    },
    {
      "cell_type": "code",
      "metadata": {
        "id": "dkMUpeBZcG6w"
      },
      "source": [
        "point = {'A':{'A':4,'C':0,'B':-2,'E':-1,'D':-2,'G':0,'F':-2,'I':-1,'H':-2,'K':-1,'M':-1,'L':-1,'N':-2,'Q':-1,'P':-1,'S':1,'R':-1,'T':0,'W':-3,'V':0,'Y':-2,'X':-1,'Z':-1},\n",
        "    'C':{'A':0,'C':9,'B':-3,'E':-4,'D':-3,'G':-3,'F':-2,'I':-1,'H':-3,'K':-3,'M':-1,'L':-1,'N':-3,'Q':-3,'P':-3,'S':-1,'R':-3,'T':-1,'W':-2,'V':-1,'Y':-2,'X':-1,'Z':-3},\n",
        "    'B':{'A':-2,'C':-3,'B':4,'E':1,'D':4,'G':-1,'F':-3,'I':-3,'H':0,'K':0,'M':-3,'L':-4,'N':3,'Q':0,'P':-2,'S':0,'R':-1,'T':-1,'W':-4,'V':-3,'Y':-3,'X':-1,'Z':1},\n",
        "    'E':{'A':-1,'C':-4,'B':1,'E':5,'D':2,'G':-2,'F':-3,'I':-3,'H':0,'K':1,'M':-2,'L':-3,'N':0,'Q':2,'P':-1,'S':0,'R':0,'T':-1,'W':-3,'V':-2,'Y':-2,'X':-1,'Z':4},\n",
        "    'D':{'A':-2,'C':-3,'B':4,'E':2,'D':6,'G':-1,'F':-3,'I':-3,'H':-1,'K':-1,'M':-3,'L':-4,'N':1,'Q':0,'P':-1,'S':0,'R':-2,'T':-1,'W':-4,'V':-3,'Y':-3,'X':-1,'Z':1},\n",
        "    'G':{'A':0,'C':-3,'B':-1,'E':-2,'D':-1,'G':6,'F':-3,'I':-4,'H':-2,'K':-2,'M':-3,'L':-4,'N':0,'Q':-2,'P':-2,'S':0,'R':-2,'T':-2,'W':-2,'V':-3,'Y':-3,'X':-1,'Z':-2},\n",
        "    'F':{'A':-2,'C':-2,'B':-3,'E':-3,'D':-3,'G':-3,'F':6,'I':0,'H':-1,'K':-3,'M':0,'L':0,'N':-3,'Q':-3,'P':-4,'S':-2,'R':-3,'T':-2,'W':1,'V':-1,'Y':3,'X':-1,'Z':-3},\n",
        "    'I':{'A':-1,'C':-1,'B':-3,'E':-3,'D':-3,'G':-4,'F':0,'I':4,'H':-3,'K':-3,'M':1,'L':2,'N':-3,'Q':-3,'P':-3,'S':-2,'R':-3,'T':-1,'W':-3,'V':3,'Y':-1,'X':-1,'Z':-3},\n",
        "    'H':{'A':-2,'C':-3,'B':0,'E':0,'D':-1,'G':-2,'F':-1,'I':-3,'H':8,'K':-1,'M':-2,'L':-3,'N':1,'Q':0,'P':-2,'S':-1,'R':0,'T':-2,'W':-2,'V':-3,'Y':2,'X':-1,'Z':0},\n",
        "    'K':{'A':-1,'C':-3,'B':0,'E':1,'D':-1,'G':-2,'F':-3,'I':-3,'H':-1,'K':5,'M':-1,'L':-2,'N':0,'Q':1,'P':-1,'S':0,'R':2,'T':-1,'W':-3,'V':-2,'Y':-2,'X':-1,'Z':1},\n",
        "    'M':{'A':-1,'C':-1,'B':-3,'E':-2,'D':-3,'G':-3,'F':0,'I':1,'H':-2,'K':-1,'M':5,'L':2,'N':-2,'Q':0,'P':-2,'S':-1,'R':-1,'T':-1,'W':-1,'V':1,'Y':-1,'X':-1,'Z':-1},\n",
        "    'L':{'A':-1,'C':-1,'B':-4,'E':-3,'D':-4,'G':-4,'F':0,'I':2,'H':-3,'K':-2,'M':2,'L':4,'N':-3,'Q':-2,'P':-3,'S':-2,'R':-2,'T':-1,'W':-2,'V':1,'Y':-1,'X':-1,'Z':-3},\n",
        "    'N':{'A':-2,'C':-3,'B':3,'E':0,'D':1,'G':0,'F':-3,'I':-3,'H':1,'K':0,'M':-2,'L':-3,'N':6,'Q':0,'P':-2,'S':1,'R':0,'T':0,'W':-4,'V':-3,'Y':-2,'X':-1,'Z':0},\n",
        "    'Q':{'A':-1,'C':-3,'B':0,'E':2,'D':0,'G':-2,'F':-3,'I':-3,'H':0,'K':1,'M':0,'L':-2,'N':0,'Q':5,'P':-1,'S':0,'R':1,'T':-1,'W':-2,'V':-2,'Y':-1,'X':-1,'Z':3},\n",
        "    'P':{'A':-1,'C':-3,'B':-2,'E':-1,'D':-1,'G':-2,'F':-4,'I':-3,'H':-2,'K':-1,'M':-2,'L':-3,'N':-2,'Q':-1,'P':7,'S':-1,'R':-2,'T':-1,'W':-4,'V':-2,'Y':-3,'X':-1,'Z':-1},\n",
        "    'S':{'A':1,'C':-1,'B':0,'E':0,'D':0,'G':0,'F':-2,'I':-2,'H':-1,'K':0,'M':-1,'L':-2,'N':1,'Q':0,'P':-1,'S':4,'R':-1,'T':1,'W':-3,'V':-2,'Y':-2,'X':-1,'Z':0},\n",
        "    'R':{'A':-1,'C':-3,'B':-1,'E':0,'D':-2,'G':-2,'F':-3,'I':-3,'H':0,'K':2,'M':-1,'L':-2,'N':0,'Q':1,'P':-2,'S':-1,'R':5,'T':-1,'W':-3,'V':-3,'Y':-2,'X':-1,'Z':0},\n",
        "    'T':{'A':0,'C':-1,'B':-1,'E':-1,'D':-1,'G':-2,'F':-2,'I':-1,'H':-2,'K':-1,'M':-1,'L':-1,'N':0,'Q':-1,'P':-1,'S':1,'R':-1,'T':5,'W':-2,'V':0,'Y':-2,'X':-1,'Z':-1},\n",
        "    'W':{'A':-3,'C':-2,'B':-4,'E':-3,'D':-4,'G':-2,'F':1,'I':-3,'H':-2,'K':-3,'M':-1,'L':-2,'N':-4,'Q':-2,'P':-4,'S':-3,'R':-3,'T':-2,'W':11,'V':-3,'Y':2,'X':-1,'Z':-3},\n",
        "    'V':{'A':0,'C':-1,'B':-3,'E':-2,'D':-3,'G':-3,'F':-1,'I':3,'H':-3,'K':-2,'M':1,'L':1,'N':-3,'Q':-2,'P':-2,'S':-2,'R':-3,'T':0,'W':-3,'V':4,'Y':-1,'X':-1,'Z':-2},\n",
        "    'Y':{'A':-2,'C':-2,'B':-3,'E':-2,'D':-3,'G':-3,'F':3,'I':-1,'H':2,'K':-2,'M':-1,'L':-1,'N':-2,'Q':-1,'P':-3,'S':-2,'R':-2,'T':-2,'W':2,'V':-1,'Y':7,'X':-1,'Z':-2},\n",
        "    'X':{'A':-1,'C':-1,'B':-1,'E':-1,'D':-1,'G':-1,'F':-1,'I':-1,'H':-1,'K':-1,'M':-1,'L':-1,'N':-1,'Q':-1,'P':-1,'S':-1,'R':-1,'T':-1,'W':-1,'V':-1,'Y':-1,'X':-1,'Z':-1},\n",
        "    'Z':{'A':-1,'C':-3,'B':1,'E':4,'D':1,'G':-2,'F':-3,'I':-3,'H':0,'K':1,'M':-1,'L':-3,'N':0,'Q':3,'P':-1,'S':0,'R':0,'T':-1,'W':-3,'V':-2,'Y':-2,'X':-1,'Z':4}, 'gap':-6}"
      ],
      "execution_count": 1,
      "outputs": []
    },
    {
      "cell_type": "code",
      "metadata": {
        "id": "n5p1QEuifidJ"
      },
      "source": [
        "def match(a, b):\n",
        "    if a != '-' and b != '-':\n",
        "      return point[a][b]\n",
        "    elif a == '-' or b == '-': \n",
        "      return point['gap']"
      ],
      "execution_count": 2,
      "outputs": []
    },
    {
      "cell_type": "markdown",
      "metadata": {
        "id": "-1DBIoHjgGt6"
      },
      "source": [
        "## Custom Dictionary"
      ]
    },
    {
      "cell_type": "code",
      "metadata": {
        "id": "U56fdOFbfWMu"
      },
      "source": [
        "point = {'match': 1, 'mismatch': -1, 'gap': -1}"
      ],
      "execution_count": 5,
      "outputs": []
    },
    {
      "cell_type": "code",
      "metadata": {
        "id": "YzyZqvv-ffl3"
      },
      "source": [
        "def match(a, b):\n",
        "    if a == b:\n",
        "        return point['match']\n",
        "    elif a == '-' or b == '-':\n",
        "        return point['gap']\n",
        "    else:\n",
        "        return point['mismatch']"
      ],
      "execution_count": 6,
      "outputs": []
    },
    {
      "cell_type": "markdown",
      "metadata": {
        "id": "VksvWmWRgMt_"
      },
      "source": [
        "# Needleman-Wunsch Algorithm"
      ]
    },
    {
      "cell_type": "code",
      "metadata": {
        "id": "jVfv5koGCgx9"
      },
      "source": [
        "import numpy as np\n",
        "import pandas as pd\n",
        "\n",
        "#Needleman-Wunsch Algorithm\n",
        "def needleman_wunsch(s1, s2):\n",
        "\n",
        "    #Declare Variables for Storing Length of Sequences\n",
        "    n, m = len(s1), len(s2)\n",
        "\n",
        "    #Declare Zeros Matrix for Storing Scores\n",
        "    score = np.zeros((m+1, n+1))\n",
        "    \n",
        "    #Initialize DataFrame\n",
        "    col = list(s1)\n",
        "    col.insert(0, '')\n",
        "    ind = list(s2)\n",
        "    ind.insert(0, '')\n",
        "     \n",
        "    #Fill Out First Row and Column of Matrix\n",
        "    for i in range(m+1):\n",
        "        score[i][0] = point['gap'] * i\n",
        "    for j in range(n+1):\n",
        "        score[0][j] = point['gap'] * j\n",
        "    \n",
        "    print('------Fill Forward Step------', '\\n')\n",
        "\n",
        "    #Fill Forward\n",
        "    for i in range(1, m + 1):\n",
        "        for j in range(1, n + 1):\n",
        "            option_1 = score[i-1][j-1] + match(s1[j-1], s2[i-1]) #diagonal\n",
        "            option_2 = score[i][j-1] + point['gap'] #left\n",
        "            option_3 = score[i-1][j] + point['gap'] #up\n",
        "            score[i][j] = max(option_1, option_2, option_3)\n",
        "            #print(score)\n",
        "    \n",
        "    #Print Filled DataFrame from Matrix\n",
        "    df = pd.DataFrame(data=score, index=ind, columns=col)\n",
        "    print(df, '\\n')\n",
        "    \n",
        "    #Declare Variables for Storing Alignments\n",
        "    align1, align2 = '', ''\n",
        "    i,j = m,n\n",
        "    \n",
        "    print('------Trace Backward Step------', '\\n')\n",
        "    \n",
        "    #Trace Backward\n",
        "    while i > 0 and j > 0:\n",
        "        current_score = score[i][j]\n",
        "        diagonal_score = score[i-1][j-1]\n",
        "        left_score = score[i][j-1]\n",
        "        up_score = score[i-1][j]\n",
        "         \n",
        "        print('Current Score:',current_score)\n",
        "        print('Diagonal Score:',diagonal_score)\n",
        "        print('Left Score:',left_score)\n",
        "        print('Up Score:',up_score)\n",
        "         \n",
        "        if current_score == diagonal_score + match(s1[j-1], s2[i-1]):\n",
        "            print('-> Diagonal', ', because current score:', current_score ,'=', 'diagonal score:',diagonal_score, '+ match/mismatch:', match(s1[j-1], s2[i-1]))\n",
        "            a1,a2 = s1[j-1],s2[i-1]\n",
        "            i,j = i-1,j-1\n",
        "        elif current_score == left_score + point['gap']:\n",
        "            print('-> Left', ', because current score:', current_score ,'=', 'left score:', left_score, '+ gap:', point['gap'])\n",
        "            a1,a2 = s1[j-1],'-'\n",
        "            j -= 1\n",
        "        elif current_score == up_score + point['gap']:\n",
        "            print('-> Up', ', because current score:', current_score ,'=', 'up score:', up_score, '+ gap:', point['gap'])\n",
        "            a1,a2 = '-',s2[i-1] \n",
        "            i -= 1\n",
        "        print('Add', 'a1 =', a1, ', a2 =', a2 ,'\\n')\n",
        "        align1 += a1\n",
        "        align2 += a2\n",
        "\n",
        "    #Trace until Top Left Cell\n",
        "    while j > 0:\n",
        "        a1,a2 = s1[j-1],'-'\n",
        "        print('Add', 'a1 =', a1, ', a2 =', a2 ,'\\n')\n",
        "        align1 += a1\n",
        "        align2 += a2\n",
        "        j -= 1\n",
        "    while i > 0:\n",
        "        a1,a2 = '-',s2[i-1]\n",
        "        print('Add', 'a1 =', a1, ', a2 =', a2 ,'\\n')\n",
        "        align1 += a1\n",
        "        align2 += a2\n",
        "        i -= 1\n",
        "\n",
        "    #Turn Back the Reversed Order of Characters After Traversing  \n",
        "    align1 = align1[::-1]\n",
        "    align2 = align2[::-1]\n",
        "    \n",
        "    #Declare Variable for Storing Similar Nucleotide\n",
        "    similar = ''\n",
        "    \n",
        "    #Declare Variable for Storing Final Sequence Score\n",
        "    seq_score = 0\n",
        "    \n",
        "    #Compute Score and Similarity\n",
        "    for i in range(len(align1)):\n",
        "        a1 = align1[i]\n",
        "        a2 = align2[i]\n",
        "        if a1 == a2:\n",
        "            similar += a1\n",
        "            seq_score += match(a1, a2)\n",
        "        else: \n",
        "            seq_score += match(a1, a2)\n",
        "            similar += ' '\n",
        "        \n",
        "    #Print Sequences, Similarity, and Score\n",
        "    print('Sequence 1 =', align1)\n",
        "    print('Similarity =', similar)\n",
        "    print('Sequence 2 =', align2, '\\n')\n",
        "    print('Sequence Score =', seq_score, 'gap =', point['gap'])"
      ],
      "execution_count": 3,
      "outputs": []
    },
    {
      "cell_type": "markdown",
      "metadata": {
        "id": "5dYdL6V4j8dV"
      },
      "source": [
        "# Run"
      ]
    },
    {
      "cell_type": "markdown",
      "metadata": {
        "id": "v_MrM7-hgR8d"
      },
      "source": [
        "## Run Protein Sequences"
      ]
    },
    {
      "cell_type": "code",
      "metadata": {
        "colab": {
          "base_uri": "https://localhost:8080/"
        },
        "id": "JTXDoOuDfqPp",
        "outputId": "52b2b5fd-baf6-49bf-b4c8-c728b99abcb3"
      },
      "source": [
        "needleman_wunsch(\"MHHNALQRRTVWVNAY\",\"MHHALQRRTVWVNAY\")"
      ],
      "execution_count": 4,
      "outputs": [
        {
          "output_type": "stream",
          "text": [
            "------Fill Forward Step------ \n",
            "\n",
            "            M     H     H     N     A  ...     V     W     V     N     A     Y\n",
            "    0.0  -6.0 -12.0 -18.0 -24.0 -30.0  ... -66.0 -72.0 -78.0 -84.0 -90.0 -96.0\n",
            "M  -6.0   5.0  -1.0  -7.0 -13.0 -19.0  ... -55.0 -61.0 -67.0 -73.0 -79.0 -85.0\n",
            "H -12.0  -1.0  13.0   7.0   1.0  -5.0  ... -41.0 -47.0 -53.0 -59.0 -65.0 -71.0\n",
            "H -18.0  -7.0   7.0  21.0  15.0   9.0  ... -27.0 -33.0 -39.0 -45.0 -51.0 -57.0\n",
            "A -24.0 -13.0   1.0  15.0  19.0  19.0  ... -17.0 -23.0 -29.0 -35.0 -41.0 -47.0\n",
            "L -30.0 -19.0  -5.0   9.0  13.0  18.0  ...  -7.0 -13.0 -19.0 -25.0 -31.0 -37.0\n",
            "Q -36.0 -25.0 -11.0   3.0   9.0  12.0  ...   4.0  -2.0  -8.0 -14.0 -20.0 -26.0\n",
            "R -42.0 -31.0 -17.0  -3.0   3.0   8.0  ...  15.0   9.0   3.0  -3.0  -9.0 -15.0\n",
            "R -48.0 -37.0 -23.0  -9.0  -3.0   2.0  ...  26.0  20.0  14.0   8.0   2.0  -4.0\n",
            "T -54.0 -43.0 -29.0 -15.0  -9.0  -3.0  ...  37.0  31.0  25.0  19.0  13.0   7.0\n",
            "V -60.0 -49.0 -35.0 -21.0 -15.0  -9.0  ...  47.0  41.0  35.0  29.0  23.0  17.0\n",
            "W -66.0 -55.0 -41.0 -27.0 -21.0 -15.0  ...  41.0  58.0  52.0  46.0  40.0  34.0\n",
            "V -72.0 -61.0 -47.0 -33.0 -27.0 -21.0  ...  35.0  52.0  62.0  56.0  50.0  44.0\n",
            "N -78.0 -67.0 -53.0 -39.0 -27.0 -27.0  ...  29.0  46.0  56.0  68.0  62.0  56.0\n",
            "A -84.0 -73.0 -59.0 -45.0 -33.0 -23.0  ...  23.0  40.0  50.0  62.0  72.0  66.0\n",
            "Y -90.0 -79.0 -65.0 -51.0 -39.0 -29.0  ...  17.0  34.0  44.0  56.0  66.0  79.0\n",
            "\n",
            "[16 rows x 17 columns] \n",
            "\n",
            "------Trace Backward Step------ \n",
            "\n",
            "Current Score: 79.0\n",
            "Diagonal Score: 72.0\n",
            "Left Score: 66.0\n",
            "Up Score: 66.0\n",
            "-> Diagonal , because current score: 79.0 = diagonal score: 72.0 + match/mismatch: 7\n",
            "Add a1 = Y , a2 = Y \n",
            "\n",
            "Current Score: 72.0\n",
            "Diagonal Score: 68.0\n",
            "Left Score: 62.0\n",
            "Up Score: 62.0\n",
            "-> Diagonal , because current score: 72.0 = diagonal score: 68.0 + match/mismatch: 4\n",
            "Add a1 = A , a2 = A \n",
            "\n",
            "Current Score: 68.0\n",
            "Diagonal Score: 62.0\n",
            "Left Score: 56.0\n",
            "Up Score: 56.0\n",
            "-> Diagonal , because current score: 68.0 = diagonal score: 62.0 + match/mismatch: 6\n",
            "Add a1 = N , a2 = N \n",
            "\n",
            "Current Score: 62.0\n",
            "Diagonal Score: 58.0\n",
            "Left Score: 52.0\n",
            "Up Score: 52.0\n",
            "-> Diagonal , because current score: 62.0 = diagonal score: 58.0 + match/mismatch: 4\n",
            "Add a1 = V , a2 = V \n",
            "\n",
            "Current Score: 58.0\n",
            "Diagonal Score: 47.0\n",
            "Left Score: 41.0\n",
            "Up Score: 41.0\n",
            "-> Diagonal , because current score: 58.0 = diagonal score: 47.0 + match/mismatch: 11\n",
            "Add a1 = W , a2 = W \n",
            "\n",
            "Current Score: 47.0\n",
            "Diagonal Score: 43.0\n",
            "Left Score: 37.0\n",
            "Up Score: 37.0\n",
            "-> Diagonal , because current score: 47.0 = diagonal score: 43.0 + match/mismatch: 4\n",
            "Add a1 = V , a2 = V \n",
            "\n",
            "Current Score: 43.0\n",
            "Diagonal Score: 38.0\n",
            "Left Score: 32.0\n",
            "Up Score: 32.0\n",
            "-> Diagonal , because current score: 43.0 = diagonal score: 38.0 + match/mismatch: 5\n",
            "Add a1 = T , a2 = T \n",
            "\n",
            "Current Score: 38.0\n",
            "Diagonal Score: 33.0\n",
            "Left Score: 27.0\n",
            "Up Score: 27.0\n",
            "-> Diagonal , because current score: 38.0 = diagonal score: 33.0 + match/mismatch: 5\n",
            "Add a1 = R , a2 = R \n",
            "\n",
            "Current Score: 33.0\n",
            "Diagonal Score: 28.0\n",
            "Left Score: 22.0\n",
            "Up Score: 22.0\n",
            "-> Diagonal , because current score: 33.0 = diagonal score: 28.0 + match/mismatch: 5\n",
            "Add a1 = R , a2 = R \n",
            "\n",
            "Current Score: 28.0\n",
            "Diagonal Score: 23.0\n",
            "Left Score: 17.0\n",
            "Up Score: 17.0\n",
            "-> Diagonal , because current score: 28.0 = diagonal score: 23.0 + match/mismatch: 5\n",
            "Add a1 = Q , a2 = Q \n",
            "\n",
            "Current Score: 23.0\n",
            "Diagonal Score: 19.0\n",
            "Left Score: 18.0\n",
            "Up Score: 13.0\n",
            "-> Diagonal , because current score: 23.0 = diagonal score: 19.0 + match/mismatch: 4\n",
            "Add a1 = L , a2 = L \n",
            "\n",
            "Current Score: 19.0\n",
            "Diagonal Score: 15.0\n",
            "Left Score: 19.0\n",
            "Up Score: 9.0\n",
            "-> Diagonal , because current score: 19.0 = diagonal score: 15.0 + match/mismatch: 4\n",
            "Add a1 = A , a2 = A \n",
            "\n",
            "Current Score: 15.0\n",
            "Diagonal Score: 7.0\n",
            "Left Score: 21.0\n",
            "Up Score: 1.0\n",
            "-> Left , because current score: 15.0 = left score: 21.0 + gap: -6\n",
            "Add a1 = N , a2 = - \n",
            "\n",
            "Current Score: 21.0\n",
            "Diagonal Score: 13.0\n",
            "Left Score: 7.0\n",
            "Up Score: 7.0\n",
            "-> Diagonal , because current score: 21.0 = diagonal score: 13.0 + match/mismatch: 8\n",
            "Add a1 = H , a2 = H \n",
            "\n",
            "Current Score: 13.0\n",
            "Diagonal Score: 5.0\n",
            "Left Score: -1.0\n",
            "Up Score: -1.0\n",
            "-> Diagonal , because current score: 13.0 = diagonal score: 5.0 + match/mismatch: 8\n",
            "Add a1 = H , a2 = H \n",
            "\n",
            "Current Score: 5.0\n",
            "Diagonal Score: 0.0\n",
            "Left Score: -6.0\n",
            "Up Score: -6.0\n",
            "-> Diagonal , because current score: 5.0 = diagonal score: 0.0 + match/mismatch: 5\n",
            "Add a1 = M , a2 = M \n",
            "\n",
            "Sequence 1 = MHHNALQRRTVWVNAY\n",
            "Similarity = MHH ALQRRTVWVNAY\n",
            "Sequence 2 = MHH-ALQRRTVWVNAY \n",
            "\n",
            "Sequence Score = 79 gap = -6\n"
          ],
          "name": "stdout"
        }
      ]
    },
    {
      "cell_type": "markdown",
      "metadata": {
        "id": "kLM-9DKLgV1_"
      },
      "source": [
        "## Run DNA Sequences"
      ]
    },
    {
      "cell_type": "code",
      "metadata": {
        "colab": {
          "base_uri": "https://localhost:8080/"
        },
        "id": "pZLjVzdyfq3m",
        "outputId": "95a2b640-a8b4-47dc-dd8b-f43bc77e1313"
      },
      "source": [
        "needleman_wunsch(\"GCATGCU\",\"GATTACA\")"
      ],
      "execution_count": 7,
      "outputs": [
        {
          "output_type": "stream",
          "text": [
            "------Fill Forward Step------ \n",
            "\n",
            "          G    C    A    T    G    C    U\n",
            "   0.0 -1.0 -2.0 -3.0 -4.0 -5.0 -6.0 -7.0\n",
            "G -1.0  1.0  0.0 -1.0 -2.0 -3.0 -4.0 -5.0\n",
            "A -2.0  0.0  0.0  1.0  0.0 -1.0 -2.0 -3.0\n",
            "T -3.0 -1.0 -1.0  0.0  2.0  1.0  0.0 -1.0\n",
            "T -4.0 -2.0 -2.0 -1.0  1.0  1.0  0.0 -1.0\n",
            "A -5.0 -3.0 -3.0 -1.0  0.0  0.0  0.0 -1.0\n",
            "C -6.0 -4.0 -2.0 -2.0 -1.0 -1.0  1.0  0.0\n",
            "A -7.0 -5.0 -3.0 -1.0 -2.0 -2.0  0.0  0.0 \n",
            "\n",
            "------Trace Backward Step------ \n",
            "\n",
            "Current Score: 0.0\n",
            "Diagonal Score: 1.0\n",
            "Left Score: 0.0\n",
            "Up Score: 0.0\n",
            "-> Diagonal , because current score: 0.0 = diagonal score: 1.0 + match/mismatch: -1\n",
            "Add a1 = U , a2 = A \n",
            "\n",
            "Current Score: 1.0\n",
            "Diagonal Score: 0.0\n",
            "Left Score: -1.0\n",
            "Up Score: 0.0\n",
            "-> Diagonal , because current score: 1.0 = diagonal score: 0.0 + match/mismatch: 1\n",
            "Add a1 = C , a2 = C \n",
            "\n",
            "Current Score: 0.0\n",
            "Diagonal Score: 1.0\n",
            "Left Score: 0.0\n",
            "Up Score: 1.0\n",
            "-> Diagonal , because current score: 0.0 = diagonal score: 1.0 + match/mismatch: -1\n",
            "Add a1 = G , a2 = A \n",
            "\n",
            "Current Score: 1.0\n",
            "Diagonal Score: 0.0\n",
            "Left Score: -1.0\n",
            "Up Score: 2.0\n",
            "-> Diagonal , because current score: 1.0 = diagonal score: 0.0 + match/mismatch: 1\n",
            "Add a1 = T , a2 = T \n",
            "\n",
            "Current Score: 0.0\n",
            "Diagonal Score: 0.0\n",
            "Left Score: -1.0\n",
            "Up Score: 1.0\n",
            "-> Up , because current score: 0.0 = up score: 1.0 + gap: -1\n",
            "Add a1 = - , a2 = T \n",
            "\n",
            "Current Score: 1.0\n",
            "Diagonal Score: 0.0\n",
            "Left Score: 0.0\n",
            "Up Score: -1.0\n",
            "-> Diagonal , because current score: 1.0 = diagonal score: 0.0 + match/mismatch: 1\n",
            "Add a1 = A , a2 = A \n",
            "\n",
            "Current Score: 0.0\n",
            "Diagonal Score: -1.0\n",
            "Left Score: 1.0\n",
            "Up Score: -2.0\n",
            "-> Left , because current score: 0.0 = left score: 1.0 + gap: -1\n",
            "Add a1 = C , a2 = - \n",
            "\n",
            "Current Score: 1.0\n",
            "Diagonal Score: 0.0\n",
            "Left Score: -1.0\n",
            "Up Score: -1.0\n",
            "-> Diagonal , because current score: 1.0 = diagonal score: 0.0 + match/mismatch: 1\n",
            "Add a1 = G , a2 = G \n",
            "\n",
            "Sequence 1 = GCA-TGCU\n",
            "Similarity = G A T C \n",
            "Sequence 2 = G-ATTACA \n",
            "\n",
            "Sequence Score = 0 gap = -1\n"
          ],
          "name": "stdout"
        }
      ]
    }
  ]
}